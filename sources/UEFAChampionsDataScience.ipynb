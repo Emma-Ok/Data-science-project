{
  "nbformat": 4,
  "nbformat_minor": 0,
  "metadata": {
    "colab": {
      "provenance": [],
      "authorship_tag": "ABX9TyMXerdKDnn8pgUR1tQOu6nN",
      "include_colab_link": true
    },
    "kernelspec": {
      "name": "python3",
      "display_name": "Python 3"
    },
    "language_info": {
      "name": "python"
    }
  },
  "cells": [
    {
      "cell_type": "markdown",
      "metadata": {
        "id": "view-in-github",
        "colab_type": "text"
      },
      "source": [
        "<a href=\"https://colab.research.google.com/github/Emma-Ok/Data-science-project/blob/main/sources/UEFAChampionsDataScience.ipynb\" target=\"_parent\"><img src=\"https://colab.research.google.com/assets/colab-badge.svg\" alt=\"Open In Colab\"/></a>"
      ]
    },
    {
      "cell_type": "code",
      "source": [
        "!pip install kagglehub[]"
      ],
      "metadata": {
        "colab": {
          "base_uri": "https://localhost:8080/"
        },
        "id": "dLWGeHba6OZJ",
        "outputId": "d2974baf-c358-46cf-e140-e1eb77c454ee"
      },
      "execution_count": null,
      "outputs": [
        {
          "output_type": "stream",
          "name": "stdout",
          "text": [
            "Requirement already satisfied: kagglehub in /usr/local/lib/python3.12/dist-packages (0.3.12)\n",
            "Requirement already satisfied: packaging in /usr/local/lib/python3.12/dist-packages (from kagglehub) (25.0)\n",
            "Requirement already satisfied: pyyaml in /usr/local/lib/python3.12/dist-packages (from kagglehub) (6.0.2)\n",
            "Requirement already satisfied: requests in /usr/local/lib/python3.12/dist-packages (from kagglehub) (2.32.4)\n",
            "Requirement already satisfied: tqdm in /usr/local/lib/python3.12/dist-packages (from kagglehub) (4.67.1)\n",
            "Requirement already satisfied: charset_normalizer<4,>=2 in /usr/local/lib/python3.12/dist-packages (from requests->kagglehub) (3.4.3)\n",
            "Requirement already satisfied: idna<4,>=2.5 in /usr/local/lib/python3.12/dist-packages (from requests->kagglehub) (3.10)\n",
            "Requirement already satisfied: urllib3<3,>=1.21.1 in /usr/local/lib/python3.12/dist-packages (from requests->kagglehub) (2.5.0)\n",
            "Requirement already satisfied: certifi>=2017.4.17 in /usr/local/lib/python3.12/dist-packages (from requests->kagglehub) (2025.8.3)\n"
          ]
        }
      ]
    },
    {
      "cell_type": "code",
      "source": [
        "import kagglehub\n",
        "import os\n",
        "\n",
        "# download dataset\n",
        "path = kagglehub.dataset_download(\"pabloramoswilkins/ucl-2025-players-data\")\n",
        "print(\"Dataset descargado en:\", path)\n",
        "\n",
        "\n",
        "csv_files = []\n",
        "for root, dirs, files in os.walk(path):\n",
        "    for f in files:\n",
        "        if f.endswith(\".csv\"):\n",
        "            # Guardamos la ruta relativa (carpeta/archivo.csv)\n",
        "            rel_path = os.path.relpath(os.path.join(root, f), path)\n",
        "            csv_files.append(rel_path)\n",
        "\n",
        "# see all Csv finds\n",
        "print(\"Lista de CSV disponibles:\")\n",
        "for f in csv_files:\n",
        "    print(\"-\", f)\n"
      ],
      "metadata": {
        "colab": {
          "base_uri": "https://localhost:8080/"
        },
        "id": "Qj4MlL9H9Lc4",
        "outputId": "4d9194e7-e6d9-4d14-9d42-b3a43398d9d6"
      },
      "execution_count": null,
      "outputs": [
        {
          "output_type": "stream",
          "name": "stdout",
          "text": [
            "Downloading from https://www.kaggle.com/api/v1/datasets/download/pabloramoswilkins/ucl-2025-players-data?dataset_version_number=1...\n"
          ]
        },
        {
          "output_type": "stream",
          "name": "stderr",
          "text": [
            "100%|██████████| 69.7k/69.7k [00:00<00:00, 40.8MB/s]"
          ]
        },
        {
          "output_type": "stream",
          "name": "stdout",
          "text": [
            "Extracting files...\n",
            "Dataset descargado en: /root/.cache/kagglehub/datasets/pabloramoswilkins/ucl-2025-players-data/versions/1\n",
            "Lista de CSV disponibles:\n",
            "- teams_data.csv\n",
            "- DAY_4/attacking_data.csv\n",
            "- DAY_4/disciplinary_data.csv\n",
            "- DAY_4/distribution_data.csv\n",
            "- DAY_4/goalkeeping_data.csv\n",
            "- DAY_4/key_stats_data.csv\n",
            "- DAY_4/defending_data.csv\n",
            "- DAY_4/players_data.csv\n",
            "- DAY_4/goals_data.csv\n",
            "- DAY_4/attempts_data.csv\n"
          ]
        },
        {
          "output_type": "stream",
          "name": "stderr",
          "text": [
            "\n"
          ]
        }
      ]
    },
    {
      "cell_type": "code",
      "source": [
        "import pandas as pd\n",
        "import os\n",
        "\n",
        "# path dataset\n",
        "dataset_path = path\n",
        "\n",
        "# CSV list\n",
        "csv_files = [\n",
        "    \"teams_data.csv\",\n",
        "    \"DAY_4/disciplinary_data.csv\",\n",
        "    \"DAY_4/attempts_data.csv\",\n",
        "    \"DAY_4/distribution_data.csv\",\n",
        "    \"DAY_4/key_stats_data.csv\",\n",
        "    \"DAY_4/attacking_data.csv\",\n",
        "    \"DAY_4/players_data.csv\",\n",
        "    \"DAY_4/goals_data.csv\",\n",
        "    \"DAY_4/goalkeeping_data.csv\",\n",
        "    \"DAY_4/defending_data.csv\",\n",
        "]\n",
        "\n",
        "# load\n",
        "dfs = {f: pd.read_csv(os.path.join(dataset_path, f)) for f in csv_files}\n",
        "\n",
        "# exploring\n",
        "for name, df in dfs.items():\n",
        "    print(f\"\\n=== {name} ===\")\n",
        "    print(\"Shape:\", df.shape)\n",
        "    print(\"Columnas:\", df.columns.tolist())\n",
        "    print(\"Tipos de datos:\\n\", df.dtypes)\n",
        "    print(\"Primeras filas:\\n\", df.head(3))\n",
        "    print(f\"\\n=========================================\")\n"
      ],
      "metadata": {
        "colab": {
          "base_uri": "https://localhost:8080/"
        },
        "id": "G2SnsDWN-9DQ",
        "outputId": "80ca9472-6c76-4ec1-f1a9-9579d037dfcb"
      },
      "execution_count": null,
      "outputs": [
        {
          "output_type": "stream",
          "name": "stdout",
          "text": [
            "\n",
            "=== teams_data.csv ===\n",
            "Shape: (36, 4)\n",
            "Columnas: ['team_id', 'country', 'team', 'logo']\n",
            "Tipos de datos:\n",
            " team_id     int64\n",
            "country    object\n",
            "team       object\n",
            "logo       object\n",
            "dtype: object\n",
            "Primeras filas:\n",
            "    team_id  country                      team  \\\n",
            "0    50138    Italy  FC Internazionale Milano   \n",
            "1    50124    Spain        Atlético de Madrid   \n",
            "2    50111  Austria             SK Sturm Graz   \n",
            "\n",
            "                                                logo  \n",
            "0  https://img.uefa.com/imgml/TP/teams/logos/70x7...  \n",
            "1  https://img.uefa.com/imgml/TP/teams/logos/70x7...  \n",
            "2  https://img.uefa.com/imgml/TP/teams/logos/70x7...  \n",
            "\n",
            "=========================================\n",
            "\n",
            "=== DAY_4/disciplinary_data.csv ===\n",
            "Shape: (908, 6)\n",
            "Columnas: ['Unnamed: 0', 'id_player', 'fouls_committed', 'fouls_suffered', 'yellow_cards', 'red_cards']\n",
            "Tipos de datos:\n",
            " Unnamed: 0           int64\n",
            "id_player            int64\n",
            "fouls_committed    float64\n",
            "fouls_suffered     float64\n",
            "yellow_cards         int64\n",
            "red_cards            int64\n",
            "dtype: object\n",
            "Primeras filas:\n",
            "    Unnamed: 0  id_player  fouls_committed  fouls_suffered  yellow_cards  \\\n",
            "0           0  250112690             11.0             7.0             1   \n",
            "1           1  250065419             11.0             4.0             2   \n",
            "2           2  250105927             10.0             7.0             0   \n",
            "\n",
            "   red_cards  \n",
            "0          0  \n",
            "1          0  \n",
            "2          0  \n",
            "\n",
            "=========================================\n",
            "\n",
            "=== DAY_4/attempts_data.csv ===\n",
            "Shape: (908, 5)\n",
            "Columnas: ['id_player', 'total_attempts', 'attempts_on_target', 'attempts_off_target', 'blocked']\n",
            "Tipos de datos:\n",
            " id_player                int64\n",
            "total_attempts         float64\n",
            "attempts_on_target     float64\n",
            "attempts_off_target    float64\n",
            "blocked                float64\n",
            "dtype: object\n",
            "Primeras filas:\n",
            "    id_player  total_attempts  attempts_on_target  attempts_off_target  blocked\n",
            "0  250016833            20.0                12.0                  6.0      2.0\n",
            "1  250103758            21.0                10.0                  5.0      6.0\n",
            "2  250121533            17.0                10.0                  6.0      1.0\n",
            "\n",
            "=========================================\n",
            "\n",
            "=== DAY_4/distribution_data.csv ===\n",
            "Shape: (908, 9)\n",
            "Columnas: ['id_player', 'passing_accuracy(%)', 'passes_attempted', 'passes_completed', 'crossing_accuracy(%)', 'crosses_attempted', 'crosses_completed', 'free_kick_taken', 'matches_appearance']\n",
            "Tipos de datos:\n",
            " id_player                 int64\n",
            "passing_accuracy(%)     float64\n",
            "passes_attempted        float64\n",
            "passes_completed        float64\n",
            "crossing_accuracy(%)    float64\n",
            "crosses_attempted       float64\n",
            "crosses_completed       float64\n",
            "free_kick_taken         float64\n",
            "matches_appearance      float64\n",
            "dtype: object\n",
            "Primeras filas:\n",
            "    id_player  passing_accuracy(%)  passes_attempted  passes_completed  \\\n",
            "0  250050416                100.0              19.0              19.0   \n",
            "1  250138626                100.0              17.0              17.0   \n",
            "2    1902445                100.0              14.0              14.0   \n",
            "\n",
            "   crossing_accuracy(%)  crosses_attempted  crosses_completed  \\\n",
            "0                   0.0                0.0                0.0   \n",
            "1                   0.0                0.0                0.0   \n",
            "2                   0.0                0.0                0.0   \n",
            "\n",
            "   free_kick_taken  matches_appearance  \n",
            "0              0.0                 1.0  \n",
            "1              0.0                 1.0  \n",
            "2              0.0                 1.0  \n",
            "\n",
            "=========================================\n",
            "\n",
            "=== DAY_4/key_stats_data.csv ===\n",
            "Shape: (908, 5)\n",
            "Columnas: ['id_player', 'distance_covered(km/h)', 'top_speed', 'minutes_played', 'matches_appareance']\n",
            "Tipos de datos:\n",
            " id_player                   int64\n",
            "distance_covered(km/h)    float64\n",
            "top_speed                 float64\n",
            "minutes_played            float64\n",
            "matches_appareance        float64\n",
            "dtype: object\n",
            "Primeras filas:\n",
            "    id_player  distance_covered(km/h)  top_speed  minutes_played  \\\n",
            "0  250016833                   43.71      30.35           360.0   \n",
            "1  250105927                   41.94      34.55           360.0   \n",
            "2  250121533                   38.39      35.47           360.0   \n",
            "\n",
            "   matches_appareance  \n",
            "0                 4.0  \n",
            "1                 4.0  \n",
            "2                 4.0  \n",
            "\n",
            "=========================================\n",
            "\n",
            "=== DAY_4/attacking_data.csv ===\n",
            "Shape: (908, 5)\n",
            "Columnas: ['id_player', 'assists', 'corners_taken', 'offsides', 'dribbles']\n",
            "Tipos de datos:\n",
            " id_player          int64\n",
            "assists          float64\n",
            "corners_taken    float64\n",
            "offsides         float64\n",
            "dribbles         float64\n",
            "dtype: object\n",
            "Primeras filas:\n",
            "    id_player  assists  corners_taken  offsides  dribbles\n",
            "0  250052469      4.0            0.0       1.0       9.0\n",
            "1  250130414      3.0           21.0       0.0       2.0\n",
            "2  250070417      3.0           19.0       0.0       0.0\n",
            "\n",
            "=========================================\n",
            "\n",
            "=== DAY_4/players_data.csv ===\n",
            "Shape: (908, 10)\n",
            "Columnas: ['id_player', 'player_name', 'nationality', 'field_position', 'position', 'weight(kg)', 'height(cm)', 'age', 'id_team', 'player_image']\n",
            "Tipos de datos:\n",
            " id_player           int64\n",
            "player_name        object\n",
            "nationality        object\n",
            "field_position     object\n",
            "position           object\n",
            "weight(kg)        float64\n",
            "height(cm)        float64\n",
            "age                 int64\n",
            "id_team             int64\n",
            "player_image       object\n",
            "dtype: object\n",
            "Primeras filas:\n",
            "    id_player      player_name nationality field_position position  weight(kg)  \\\n",
            "0  250016833       Harry Kane     England        Forward  STRIKER        65.0   \n",
            "1  250105927  Viktor Gyökeres      Sweden        Forward      NaN         NaN   \n",
            "2  250121533  Vinícius Júnior      Brazil        Forward  UNKNOWN         NaN   \n",
            "\n",
            "   height(cm)  age  id_team                                       player_image  \n",
            "0       188.0   31    50037  https://img.uefa.com/imgml/TP/players/1/2025/3...  \n",
            "1         NaN   26    50149  https://img.uefa.com/imgml/TP/players/1/2025/3...  \n",
            "2         NaN   24    50051  https://img.uefa.com/imgml/TP/players/1/2025/3...  \n",
            "\n",
            "=========================================\n",
            "\n",
            "=== DAY_4/goals_data.csv ===\n",
            "Shape: (908, 9)\n",
            "Columnas: ['id_player', 'goals', 'inside_area', 'outside_area', 'right_foot', 'left_foot', 'head', 'other', 'penalties_scored']\n",
            "Tipos de datos:\n",
            " id_player             int64\n",
            "goals               float64\n",
            "inside_area         float64\n",
            "outside_area        float64\n",
            "right_foot          float64\n",
            "left_foot           float64\n",
            "head                float64\n",
            "other               float64\n",
            "penalties_scored    float64\n",
            "dtype: object\n",
            "Primeras filas:\n",
            "    id_player  goals  inside_area  outside_area  right_foot  left_foot  head  \\\n",
            "0  250112880    5.0          3.0           2.0         1.0        4.0   0.0   \n",
            "1  250139445    3.0          1.0           2.0         2.0        1.0   0.0   \n",
            "2  250121533    4.0          3.0           1.0         2.0        2.0   0.0   \n",
            "\n",
            "   other  penalties_scored  \n",
            "0    0.0               0.0  \n",
            "1    0.0               0.0  \n",
            "2    0.0               1.0  \n",
            "\n",
            "=========================================\n",
            "\n",
            "=== DAY_4/goalkeeping_data.csv ===\n",
            "Shape: (908, 6)\n",
            "Columnas: ['id_player', 'saves', 'goals_conceded', 'saves_on_penalty', 'clean_sheets', 'punches_made']\n",
            "Tipos de datos:\n",
            " id_player             int64\n",
            "saves               float64\n",
            "goals_conceded      float64\n",
            "saves_on_penalty    float64\n",
            "clean_sheets        float64\n",
            "punches_made        float64\n",
            "dtype: object\n",
            "Primeras filas:\n",
            "    id_player  saves  goals_conceded  saves_on_penalty  clean_sheets  \\\n",
            "0  250042780   27.0             5.0               0.0           0.0   \n",
            "1  250157134   23.0            15.0               1.0           0.0   \n",
            "2  250105818   21.0             8.0               0.0           1.0   \n",
            "\n",
            "   punches_made  \n",
            "0           3.0  \n",
            "1           1.0  \n",
            "2           6.0  \n",
            "\n",
            "=========================================\n",
            "\n",
            "=== DAY_4/defending_data.csv ===\n",
            "Shape: (908, 6)\n",
            "Columnas: ['id_player', 'balls_recovered', 'tackles', 'tackles_won', 'tackles_lost', 'clearance_attempted']\n",
            "Tipos de datos:\n",
            " id_player                int64\n",
            "balls_recovered        float64\n",
            "tackles                float64\n",
            "tackles_won            float64\n",
            "tackles_lost           float64\n",
            "clearance_attempted    float64\n",
            "dtype: object\n",
            "Primeras filas:\n",
            "    id_player  balls_recovered  tackles  tackles_won  tackles_lost  \\\n",
            "0  250174126             41.0      4.0          1.0           3.0   \n",
            "1  250188247             33.0      4.0          1.0           3.0   \n",
            "2  250139010             32.0      3.0          0.0           3.0   \n",
            "\n",
            "   clearance_attempted  \n",
            "0                 10.0  \n",
            "1                 10.0  \n",
            "2                 10.0  \n",
            "\n",
            "=========================================\n"
          ]
        }
      ]
    },
    {
      "cell_type": "markdown",
      "source": [
        "# Final unified dataset"
      ],
      "metadata": {
        "id": "CeObZJKe9ptp"
      }
    },
    {
      "cell_type": "code",
      "source": [
        "import pandas as pd\n",
        "import os\n",
        "\n",
        "dataset_path = path\n",
        "\n",
        "# === 1. Load dataset ===\n",
        "players = pd.read_csv(os.path.join(dataset_path, \"DAY_4/players_data.csv\"))\n",
        "\n",
        "# === 2. Load teams information ===\n",
        "teams = pd.read_csv(os.path.join(dataset_path, \"teams_data.csv\"))\n",
        "\n",
        "# === 3. Load the other statistics datasets ===\n",
        "disciplinary   = pd.read_csv(os.path.join(dataset_path, \"DAY_4/disciplinary_data.csv\"))\n",
        "attempts       = pd.read_csv(os.path.join(dataset_path, \"DAY_4/attempts_data.csv\"))\n",
        "distribution   = pd.read_csv(os.path.join(dataset_path, \"DAY_4/distribution_data.csv\"))\n",
        "key_stats      = pd.read_csv(os.path.join(dataset_path, \"DAY_4/key_stats_data.csv\"))\n",
        "attacking      = pd.read_csv(os.path.join(dataset_path, \"DAY_4/attacking_data.csv\"))\n",
        "goals          = pd.read_csv(os.path.join(dataset_path, \"DAY_4/goals_data.csv\"))\n",
        "goalkeeping    = pd.read_csv(os.path.join(dataset_path, \"DAY_4/goalkeeping_data.csv\"))\n",
        "defending      = pd.read_csv(os.path.join(dataset_path, \"DAY_4/defending_data.csv\"))\n",
        "\n",
        "# === 4. Join all datasets by id_player ===\n",
        "dfs_to_merge = [disciplinary, attempts, distribution, key_stats,\n",
        "                attacking, goals, goalkeeping, defending]\n",
        "\n",
        "master_df = players.copy()\n",
        "\n",
        "for df in dfs_to_merge:\n",
        "    # Delete columns \"Unnamed: 0\" if they exist\n",
        "    if \"Unnamed: 0\" in df.columns:\n",
        "        df = df.drop(columns=[\"Unnamed: 0\"])\n",
        "    master_df = master_df.merge(df, on=\"id_player\", how=\"left\")\n",
        "\n",
        "# === 5. Add name teams ===\n",
        "master_df = master_df.merge(teams[[\"team_id\", \"team\"]],\n",
        "                            left_on=\"id_team\", right_on=\"team_id\" ,how=\"left\")\n",
        "\n",
        "\n"
      ],
      "metadata": {
        "id": "tyB5Dbr5Ct74"
      },
      "execution_count": null,
      "outputs": []
    },
    {
      "cell_type": "code",
      "source": [
        "# === 6. Ver resultado ===\n",
        "print(\"Shape final:\", master_df.shape)\n",
        "print(\"Columnas:\", master_df.columns.tolist())\n",
        "print(master_df.head(5))"
      ],
      "metadata": {
        "colab": {
          "base_uri": "https://localhost:8080/"
        },
        "id": "u_P1ACuhC-cg",
        "outputId": "5277a4f0-1012-4928-dc02-2e323e048694"
      },
      "execution_count": null,
      "outputs": [
        {
          "output_type": "stream",
          "name": "stdout",
          "text": [
            "Shape final: (908, 54)\n",
            "Columnas: ['id_player', 'player_name', 'nationality', 'field_position', 'position', 'weight(kg)', 'height(cm)', 'age', 'id_team', 'player_image', 'fouls_committed', 'fouls_suffered', 'yellow_cards', 'red_cards', 'total_attempts', 'attempts_on_target', 'attempts_off_target', 'blocked', 'passing_accuracy(%)', 'passes_attempted', 'passes_completed', 'crossing_accuracy(%)', 'crosses_attempted', 'crosses_completed', 'free_kick_taken', 'matches_appearance', 'distance_covered(km/h)', 'top_speed', 'minutes_played', 'matches_appareance', 'assists', 'corners_taken', 'offsides', 'dribbles', 'goals', 'inside_area', 'outside_area', 'right_foot', 'left_foot', 'head', 'other', 'penalties_scored', 'saves', 'goals_conceded', 'saves_on_penalty', 'clean_sheets', 'punches_made', 'balls_recovered', 'tackles', 'tackles_won', 'tackles_lost', 'clearance_attempted', 'team_id', 'team']\n",
            "   id_player        player_name  nationality field_position  \\\n",
            "0  250016833         Harry Kane      England        Forward   \n",
            "1  250105927    Viktor Gyökeres       Sweden        Forward   \n",
            "2  250121533    Vinícius Júnior       Brazil        Forward   \n",
            "3  250121294  Tijjani Reijnders  Netherlands     Midfielder   \n",
            "4  250160436  Maghnes Akliouche       France     Midfielder   \n",
            "\n",
            "             position  weight(kg)  height(cm)  age  id_team  \\\n",
            "0             STRIKER        65.0       188.0   31    50037   \n",
            "1                 NaN         NaN         NaN   26    50149   \n",
            "2             UNKNOWN         NaN         NaN   24    50051   \n",
            "3  CENTRAL_MIDFIELDER         NaN         NaN   26    50058   \n",
            "4             UNKNOWN         NaN         NaN   22    50023   \n",
            "\n",
            "                                        player_image  ...  saves_on_penalty  \\\n",
            "0  https://img.uefa.com/imgml/TP/players/1/2025/3...  ...               0.0   \n",
            "1  https://img.uefa.com/imgml/TP/players/1/2025/3...  ...               0.0   \n",
            "2  https://img.uefa.com/imgml/TP/players/1/2025/3...  ...               0.0   \n",
            "3  https://img.uefa.com/imgml/TP/players/1/2025/3...  ...               0.0   \n",
            "4  https://img.uefa.com/imgml/TP/players/1/2025/3...  ...               0.0   \n",
            "\n",
            "   clean_sheets  punches_made  balls_recovered  tackles  tackles_won  \\\n",
            "0           1.0           0.0              3.0      2.0          1.0   \n",
            "1           2.0           0.0              1.0      2.0          0.0   \n",
            "2           0.0           0.0              5.0      5.0          0.0   \n",
            "3           0.0           0.0             10.0      2.0          0.0   \n",
            "4           1.0           0.0              9.0      3.0          0.0   \n",
            "\n",
            "   tackles_lost  clearance_attempted  team_id                        team  \n",
            "0           1.0                  1.0    50037           FC Bayern München  \n",
            "1           2.0                  5.0    50149  Sporting Clube de Portugal  \n",
            "2           5.0                  0.0    50051            Real Madrid C.F.  \n",
            "3           2.0                  1.0    50058                    AC Milan  \n",
            "4           3.0                  2.0    50023                   AS Monaco  \n",
            "\n",
            "[5 rows x 54 columns]\n"
          ]
        }
      ]
    },
    {
      "cell_type": "code",
      "source": [
        "# Delete column with \"image\"\n",
        "cols_to_drop = [c for c in master_df.columns if \"image\" in c.lower() or \"logo\" in c.lower()]\n",
        "master_df = master_df.drop(columns=cols_to_drop, errors=\"ignore\")\n",
        "\n"
      ],
      "metadata": {
        "id": "LCb3Ag4uDEcw"
      },
      "execution_count": null,
      "outputs": []
    },
    {
      "cell_type": "code",
      "source": [
        "print(master_df.columns.tolist())\n"
      ],
      "metadata": {
        "colab": {
          "base_uri": "https://localhost:8080/"
        },
        "id": "anRLnXN9oexz",
        "outputId": "499892d2-688d-4682-d96d-943b0a93c4be"
      },
      "execution_count": null,
      "outputs": [
        {
          "output_type": "stream",
          "name": "stdout",
          "text": [
            "['id_player', 'player_name', 'nationality', 'field_position', 'position', 'weight(kg)', 'height(cm)', 'age', 'id_team', 'fouls_committed', 'fouls_suffered', 'yellow_cards', 'red_cards', 'total_attempts', 'attempts_on_target', 'attempts_off_target', 'blocked', 'passing_accuracy(%)', 'passes_attempted', 'passes_completed', 'crossing_accuracy(%)', 'crosses_attempted', 'crosses_completed', 'free_kick_taken', 'matches_appearance', 'distance_covered(km/h)', 'top_speed', 'minutes_played', 'matches_appareance', 'assists', 'corners_taken', 'offsides', 'dribbles', 'goals', 'inside_area', 'outside_area', 'right_foot', 'left_foot', 'head', 'other', 'penalties_scored', 'saves', 'goals_conceded', 'saves_on_penalty', 'clean_sheets', 'punches_made', 'balls_recovered', 'tackles', 'tackles_won', 'tackles_lost', 'clearance_attempted', 'team_id', 'team']\n"
          ]
        }
      ]
    },
    {
      "cell_type": "code",
      "source": [
        "# Unified similar columns\n",
        "if \"matches_appareance\" in master_df.columns and \"matches_appearance\" in master_df.columns:\n",
        "    # Combine into a single column\n",
        "    master_df[\"matches_appearance\"] = master_df[\"matches_appearance\"].fillna(master_df[\"matches_appareance\"])\n",
        "    master_df = master_df.drop(columns=[\"matches_appareance\"])\n",
        "\n",
        "# Remove duplicates from id_team/team_id\n",
        "if \"team_id\" in master_df.columns and \"id_team\" in master_df.columns:\n",
        "    master_df = master_df.drop(columns=[\"team_id\"])\n",
        "\n",
        "# See final columns\n",
        "print(\"Shape limpio:\", master_df.shape)\n"
      ],
      "metadata": {
        "colab": {
          "base_uri": "https://localhost:8080/"
        },
        "id": "Y0jh3VKBEA7Q",
        "outputId": "d3d718bf-f622-41ba-e154-143de297e5bc"
      },
      "execution_count": null,
      "outputs": [
        {
          "output_type": "stream",
          "name": "stdout",
          "text": [
            "Shape limpio: (908, 51)\n"
          ]
        }
      ]
    },
    {
      "cell_type": "code",
      "source": [
        "master_df.columns.tolist()"
      ],
      "metadata": {
        "colab": {
          "base_uri": "https://localhost:8080/"
        },
        "id": "zvDBXKK8Df3Z",
        "outputId": "f18f96c1-2c9a-4480-c3b0-09e7fce09e34"
      },
      "execution_count": null,
      "outputs": [
        {
          "output_type": "execute_result",
          "data": {
            "text/plain": [
              "['id_player',\n",
              " 'player_name',\n",
              " 'nationality',\n",
              " 'field_position',\n",
              " 'position',\n",
              " 'weight(kg)',\n",
              " 'height(cm)',\n",
              " 'age',\n",
              " 'id_team',\n",
              " 'fouls_committed',\n",
              " 'fouls_suffered',\n",
              " 'yellow_cards',\n",
              " 'red_cards',\n",
              " 'total_attempts',\n",
              " 'attempts_on_target',\n",
              " 'attempts_off_target',\n",
              " 'blocked',\n",
              " 'passing_accuracy(%)',\n",
              " 'passes_attempted',\n",
              " 'passes_completed',\n",
              " 'crossing_accuracy(%)',\n",
              " 'crosses_attempted',\n",
              " 'crosses_completed',\n",
              " 'free_kick_taken',\n",
              " 'matches_appearance',\n",
              " 'distance_covered(km/h)',\n",
              " 'top_speed',\n",
              " 'minutes_played',\n",
              " 'assists',\n",
              " 'corners_taken',\n",
              " 'offsides',\n",
              " 'dribbles',\n",
              " 'goals',\n",
              " 'inside_area',\n",
              " 'outside_area',\n",
              " 'right_foot',\n",
              " 'left_foot',\n",
              " 'head',\n",
              " 'other',\n",
              " 'penalties_scored',\n",
              " 'saves',\n",
              " 'goals_conceded',\n",
              " 'saves_on_penalty',\n",
              " 'clean_sheets',\n",
              " 'punches_made',\n",
              " 'balls_recovered',\n",
              " 'tackles',\n",
              " 'tackles_won',\n",
              " 'tackles_lost',\n",
              " 'clearance_attempted',\n",
              " 'team']"
            ]
          },
          "metadata": {},
          "execution_count": 10
        }
      ]
    },
    {
      "cell_type": "code",
      "source": [
        "master_df.to_csv(\"master_df.csv\", index=False)"
      ],
      "metadata": {
        "id": "Dsx5vvYyEI5A"
      },
      "execution_count": null,
      "outputs": []
    },
    {
      "cell_type": "code",
      "source": [
        "master_df = df.isnull().sum().sort_values(ascending=False)\n",
        "\n",
        "print(master_df[master_df > 0])"
      ],
      "metadata": {
        "id": "KKmZt6nLE-Xp",
        "outputId": "d6b56811-b771-4dae-aa64-e5dd95ea5fa1",
        "colab": {
          "base_uri": "https://localhost:8080/"
        }
      },
      "execution_count": null,
      "outputs": [
        {
          "output_type": "stream",
          "name": "stdout",
          "text": [
            "balls_recovered        181\n",
            "tackles                181\n",
            "tackles_lost           181\n",
            "tackles_won            181\n",
            "clearance_attempted    181\n",
            "dtype: int64\n"
          ]
        }
      ]
    }
  ]
}